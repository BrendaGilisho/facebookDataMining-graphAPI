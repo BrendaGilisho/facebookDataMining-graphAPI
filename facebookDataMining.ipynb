{
  "nbformat": 4,
  "nbformat_minor": 0,
  "metadata": {
    "colab": {
      "provenance": [],
      "authorship_tag": "ABX9TyPKpvxoA0pevCNao4xaJT0P",
      "include_colab_link": true
    },
    "kernelspec": {
      "name": "python3",
      "display_name": "Python 3"
    },
    "language_info": {
      "name": "python"
    }
  },
  "cells": [
    {
      "cell_type": "markdown",
      "metadata": {
        "id": "view-in-github",
        "colab_type": "text"
      },
      "source": [
        "<a href=\"https://colab.research.google.com/github/BrendaGilisho/faceboonData-graphAPI/blob/main/facebookDataMining.ipynb\" target=\"_parent\"><img src=\"https://colab.research.google.com/assets/colab-badge.svg\" alt=\"Open In Colab\"/></a>"
      ]
    },
    {
      "cell_type": "markdown",
      "source": [
        "##Using graph API to mine data from Facebook\n",
        "Steps;\n",
        "\n",
        "* Create a Facebook account, if you do not already have one.\n",
        "\n",
        "* Install Facebook's Graph API explorer, a tool that allows you to extract data from Facebook's servers using API calls.\n",
        "\n",
        "* Get access token: Use Graph API explorer to generate a User Access Token or a Page Access Token with the required permissions to access the data you want to mine.\n",
        "\n",
        "* Make API Calls: Use the access token to make API calls to Facebook's servers and retrieve data in JSON format.\n",
        "\n",
        "* Clean and Organize Data: Clean and organize the data as per your requirements.\n",
        "\n",
        "* Store Data: Store the data in a database, spreadsheet or any other format for future analysis.\n",
        "\n"
      ],
      "metadata": {
        "id": "Kspdnttm3tNU"
      }
    },
    {
      "cell_type": "code",
      "source": [
        "!pip install facebook-sdk"
      ],
      "metadata": {
        "colab": {
          "base_uri": "https://localhost:8080/"
        },
        "id": "VzCEiJ_Q1RD8",
        "outputId": "30171eff-4e44-49eb-b7d8-1cdcf497e67e"
      },
      "execution_count": 1,
      "outputs": [
        {
          "output_type": "stream",
          "name": "stdout",
          "text": [
            "Looking in indexes: https://pypi.org/simple, https://us-python.pkg.dev/colab-wheels/public/simple/\n",
            "Collecting facebook-sdk\n",
            "  Downloading facebook_sdk-3.1.0-py2.py3-none-any.whl (7.5 kB)\n",
            "Requirement already satisfied: requests in /usr/local/lib/python3.8/dist-packages (from facebook-sdk) (2.25.1)\n",
            "Requirement already satisfied: certifi>=2017.4.17 in /usr/local/lib/python3.8/dist-packages (from requests->facebook-sdk) (2022.12.7)\n",
            "Requirement already satisfied: urllib3<1.27,>=1.21.1 in /usr/local/lib/python3.8/dist-packages (from requests->facebook-sdk) (1.24.3)\n",
            "Requirement already satisfied: idna<3,>=2.5 in /usr/local/lib/python3.8/dist-packages (from requests->facebook-sdk) (2.10)\n",
            "Requirement already satisfied: chardet<5,>=3.0.2 in /usr/local/lib/python3.8/dist-packages (from requests->facebook-sdk) (4.0.0)\n",
            "Installing collected packages: facebook-sdk\n",
            "Successfully installed facebook-sdk-3.1.0\n"
          ]
        }
      ]
    },
    {
      "cell_type": "code",
      "source": [
        "import urllib3\n",
        "import facebook\n",
        "import requests\n",
        "import json\n",
        "import datetime"
      ],
      "metadata": {
        "id": "Ubdgc9730vL5"
      },
      "execution_count": 2,
      "outputs": []
    },
    {
      "cell_type": "code",
      "source": [
        "token= \"EAAIOy9mJVFwBAOb3A77K3QB6P49WJNrkS4Lsv2btFYakmRWa3RJEQyvW9eGzbdPO8BY6p0ZCaCd0ZASfAEmvdKrw4v5WLJuxCrJvtF2846YaIRH1Mcabri9rZCv77RySP8ZCip4zZCeZAxYvg5dDH3mYbS74SjTZBD5fx8eH5NzHoGSPPn6K0yDvn2UROjxZA9DwEZCK0XuSzAddR5ffc8R1qyjBVDyS3lmol0ZCg0rYkw5NzgKHjhGtPl\"\n"
      ],
      "metadata": {
        "id": "nsaJjCd3xdzm"
      },
      "execution_count": 3,
      "outputs": []
    },
    {
      "cell_type": "code",
      "source": [
        "import pandas as pd\n",
        "\n",
        "def get_feed():\n",
        "  try:\n",
        "    graph = facebook.GraphAPI(access_token=token, version=3.1)\n",
        "    myFeed = graph.request('/me/feed')['data']\n",
        "    user = graph.request('/me?fields = feed.limit(10){created_time,from,message,comments{likes.limit(10)}}')\n",
        "    # print(user)\n",
        "    print(myFeed)\n",
        "    # write_csv_file(myFeed)\n",
        "\n",
        "    # Create a DataFrame from the array of objects\n",
        "    df = pd.DataFrame(myFeed)\n",
        "\n",
        "    # Write the DataFrame to a CSV file\n",
        "    df.to_csv('facebook_posts.csv', index=False)\n",
        "        \n",
        "\n",
        "  except Exception as e:\n",
        "    print(e)\n",
        "\n",
        "get_feed()"
      ],
      "metadata": {
        "colab": {
          "base_uri": "https://localhost:8080/"
        },
        "id": "_ftqPEUgBjZt",
        "outputId": "e1e3a374-4591-442d-e362-1f31498b09cf"
      },
      "execution_count": 27,
      "outputs": [
        {
          "output_type": "stream",
          "name": "stdout",
          "text": [
            "[{'created_time': '2020-10-20T06:18:03+0000', 'id': '1901525436869109_1290181781336814'}, {'created_time': '2019-01-24T09:15:13+0000', 'id': '1901525436869109_782838515404479'}, {'created_time': '2018-08-30T18:50:52+0000', 'message': 'Woow 😍😍\\n...', 'id': '1901525436869109_702157020139296'}, {'created_time': '2018-08-30T18:49:15+0000', 'id': '1901525436869109_702156470139351'}, {'created_time': '2018-08-30T18:47:48+0000', 'id': '1901525436869109_702155973472734'}, {'created_time': '2018-06-16T04:50:48+0000', 'id': '1901525436869109_627995230888809'}, {'created_time': '2018-05-13T06:27:59+0000', 'message': \"Happy Mother's day\\nI adore you\", 'id': '1901525436869109_611196702568662'}, {'created_time': '2018-03-13T06:59:10+0000', 'id': '1901525436869109_583045275383805'}, {'created_time': '2017-12-13T11:38:12+0000', 'id': '1901525436869109_542109166144083'}, {'created_time': '2017-02-27T08:12:59+0000', 'id': '1901525436869109_407323052956029'}, {'created_time': '2016-12-01T15:47:52+0000', 'message': 'Ile dei nilkua high skul 😕...', 'id': '2134190056782434_593125654222223'}, {'created_time': '2016-11-25T17:51:14+0000', 'id': '1901525436869109_358490874505914'}, {'created_time': '2016-08-23T14:31:48+0000', 'message': 'Be like #Team hunk... Still mamas boy 😎', 'id': '2134190056782434_547639222104200'}, {'created_time': '2016-08-23T10:14:35+0000', 'id': '1901525436869109_308575892830746'}, {'created_time': '2016-08-22T20:22:30+0000', 'id': '1901525436869109_308285202859815'}, {'created_time': '2016-06-13T16:10:04+0000', 'id': '1901525436869109_274493396238996'}, {'created_time': '2016-06-13T15:49:13+0000', 'message': 'Real betrayal #Team LHA', 'id': '2134190056782434_520984148103041'}, {'created_time': '2016-06-12T10:07:41+0000', 'id': '1901525436869109_273869939634675'}, {'created_time': '2016-06-11T16:35:54+0000', 'message': 'Mob love mom,', 'id': '1901525436869109_273521616336174'}, {'created_time': '2016-06-11T12:39:49+0000', 'id': '1901525436869109_273422493012753'}, {'created_time': '2016-06-11T12:39:34+0000', 'id': '1901525436869109_273422419679427'}, {'created_time': '2016-06-10T16:18:52+0000', 'message': 'Gosh!!!!', 'id': '1901525436869109_272969459724723'}, {'created_time': '2016-06-10T16:17:39+0000', 'id': '1901525436869109_272969209724748'}, {'created_time': '2016-06-10T14:40:43+0000', 'id': '1901525436869109_272937046394631'}, {'created_time': '2016-06-10T14:37:41+0000', 'message': 'Loving me...', 'id': '1901525436869109_272935953061407'}]\n"
          ]
        }
      ]
    },
    {
      "cell_type": "code",
      "source": [
        "posts = pd.read_csv('facebook_posts.csv')"
      ],
      "metadata": {
        "id": "s0il3KoqDd2D"
      },
      "execution_count": 29,
      "outputs": []
    },
    {
      "cell_type": "code",
      "source": [
        "posts.head()"
      ],
      "metadata": {
        "colab": {
          "base_uri": "https://localhost:8080/",
          "height": 206
        },
        "id": "9Xyvhq6iq1Lv",
        "outputId": "e382af24-6cba-47ed-b249-fb7b63884a7d"
      },
      "execution_count": 30,
      "outputs": [
        {
          "output_type": "execute_result",
          "data": {
            "text/plain": [
              "               created_time                                 id       message\n",
              "0  2020-10-20T06:18:03+0000  1901525436869109_1290181781336814           NaN\n",
              "1  2019-01-24T09:15:13+0000   1901525436869109_782838515404479           NaN\n",
              "2  2018-08-30T18:50:52+0000   1901525436869109_702157020139296  Woow 😍😍\\n...\n",
              "3  2018-08-30T18:49:15+0000   1901525436869109_702156470139351           NaN\n",
              "4  2018-08-30T18:47:48+0000   1901525436869109_702155973472734           NaN"
            ],
            "text/html": [
              "\n",
              "  <div id=\"df-96553f0c-b286-41e6-a704-8188cb9491cb\">\n",
              "    <div class=\"colab-df-container\">\n",
              "      <div>\n",
              "<style scoped>\n",
              "    .dataframe tbody tr th:only-of-type {\n",
              "        vertical-align: middle;\n",
              "    }\n",
              "\n",
              "    .dataframe tbody tr th {\n",
              "        vertical-align: top;\n",
              "    }\n",
              "\n",
              "    .dataframe thead th {\n",
              "        text-align: right;\n",
              "    }\n",
              "</style>\n",
              "<table border=\"1\" class=\"dataframe\">\n",
              "  <thead>\n",
              "    <tr style=\"text-align: right;\">\n",
              "      <th></th>\n",
              "      <th>created_time</th>\n",
              "      <th>id</th>\n",
              "      <th>message</th>\n",
              "    </tr>\n",
              "  </thead>\n",
              "  <tbody>\n",
              "    <tr>\n",
              "      <th>0</th>\n",
              "      <td>2020-10-20T06:18:03+0000</td>\n",
              "      <td>1901525436869109_1290181781336814</td>\n",
              "      <td>NaN</td>\n",
              "    </tr>\n",
              "    <tr>\n",
              "      <th>1</th>\n",
              "      <td>2019-01-24T09:15:13+0000</td>\n",
              "      <td>1901525436869109_782838515404479</td>\n",
              "      <td>NaN</td>\n",
              "    </tr>\n",
              "    <tr>\n",
              "      <th>2</th>\n",
              "      <td>2018-08-30T18:50:52+0000</td>\n",
              "      <td>1901525436869109_702157020139296</td>\n",
              "      <td>Woow 😍😍\\n...</td>\n",
              "    </tr>\n",
              "    <tr>\n",
              "      <th>3</th>\n",
              "      <td>2018-08-30T18:49:15+0000</td>\n",
              "      <td>1901525436869109_702156470139351</td>\n",
              "      <td>NaN</td>\n",
              "    </tr>\n",
              "    <tr>\n",
              "      <th>4</th>\n",
              "      <td>2018-08-30T18:47:48+0000</td>\n",
              "      <td>1901525436869109_702155973472734</td>\n",
              "      <td>NaN</td>\n",
              "    </tr>\n",
              "  </tbody>\n",
              "</table>\n",
              "</div>\n",
              "      <button class=\"colab-df-convert\" onclick=\"convertToInteractive('df-96553f0c-b286-41e6-a704-8188cb9491cb')\"\n",
              "              title=\"Convert this dataframe to an interactive table.\"\n",
              "              style=\"display:none;\">\n",
              "        \n",
              "  <svg xmlns=\"http://www.w3.org/2000/svg\" height=\"24px\"viewBox=\"0 0 24 24\"\n",
              "       width=\"24px\">\n",
              "    <path d=\"M0 0h24v24H0V0z\" fill=\"none\"/>\n",
              "    <path d=\"M18.56 5.44l.94 2.06.94-2.06 2.06-.94-2.06-.94-.94-2.06-.94 2.06-2.06.94zm-11 1L8.5 8.5l.94-2.06 2.06-.94-2.06-.94L8.5 2.5l-.94 2.06-2.06.94zm10 10l.94 2.06.94-2.06 2.06-.94-2.06-.94-.94-2.06-.94 2.06-2.06.94z\"/><path d=\"M17.41 7.96l-1.37-1.37c-.4-.4-.92-.59-1.43-.59-.52 0-1.04.2-1.43.59L10.3 9.45l-7.72 7.72c-.78.78-.78 2.05 0 2.83L4 21.41c.39.39.9.59 1.41.59.51 0 1.02-.2 1.41-.59l7.78-7.78 2.81-2.81c.8-.78.8-2.07 0-2.86zM5.41 20L4 18.59l7.72-7.72 1.47 1.35L5.41 20z\"/>\n",
              "  </svg>\n",
              "      </button>\n",
              "      \n",
              "  <style>\n",
              "    .colab-df-container {\n",
              "      display:flex;\n",
              "      flex-wrap:wrap;\n",
              "      gap: 12px;\n",
              "    }\n",
              "\n",
              "    .colab-df-convert {\n",
              "      background-color: #E8F0FE;\n",
              "      border: none;\n",
              "      border-radius: 50%;\n",
              "      cursor: pointer;\n",
              "      display: none;\n",
              "      fill: #1967D2;\n",
              "      height: 32px;\n",
              "      padding: 0 0 0 0;\n",
              "      width: 32px;\n",
              "    }\n",
              "\n",
              "    .colab-df-convert:hover {\n",
              "      background-color: #E2EBFA;\n",
              "      box-shadow: 0px 1px 2px rgba(60, 64, 67, 0.3), 0px 1px 3px 1px rgba(60, 64, 67, 0.15);\n",
              "      fill: #174EA6;\n",
              "    }\n",
              "\n",
              "    [theme=dark] .colab-df-convert {\n",
              "      background-color: #3B4455;\n",
              "      fill: #D2E3FC;\n",
              "    }\n",
              "\n",
              "    [theme=dark] .colab-df-convert:hover {\n",
              "      background-color: #434B5C;\n",
              "      box-shadow: 0px 1px 3px 1px rgba(0, 0, 0, 0.15);\n",
              "      filter: drop-shadow(0px 1px 2px rgba(0, 0, 0, 0.3));\n",
              "      fill: #FFFFFF;\n",
              "    }\n",
              "  </style>\n",
              "\n",
              "      <script>\n",
              "        const buttonEl =\n",
              "          document.querySelector('#df-96553f0c-b286-41e6-a704-8188cb9491cb button.colab-df-convert');\n",
              "        buttonEl.style.display =\n",
              "          google.colab.kernel.accessAllowed ? 'block' : 'none';\n",
              "\n",
              "        async function convertToInteractive(key) {\n",
              "          const element = document.querySelector('#df-96553f0c-b286-41e6-a704-8188cb9491cb');\n",
              "          const dataTable =\n",
              "            await google.colab.kernel.invokeFunction('convertToInteractive',\n",
              "                                                     [key], {});\n",
              "          if (!dataTable) return;\n",
              "\n",
              "          const docLinkHtml = 'Like what you see? Visit the ' +\n",
              "            '<a target=\"_blank\" href=https://colab.research.google.com/notebooks/data_table.ipynb>data table notebook</a>'\n",
              "            + ' to learn more about interactive tables.';\n",
              "          element.innerHTML = '';\n",
              "          dataTable['output_type'] = 'display_data';\n",
              "          await google.colab.output.renderOutput(dataTable, element);\n",
              "          const docLink = document.createElement('div');\n",
              "          docLink.innerHTML = docLinkHtml;\n",
              "          element.appendChild(docLink);\n",
              "        }\n",
              "      </script>\n",
              "    </div>\n",
              "  </div>\n",
              "  "
            ]
          },
          "metadata": {},
          "execution_count": 30
        }
      ]
    },
    {
      "cell_type": "code",
      "source": [],
      "metadata": {
        "id": "rCFETA3pQVzU"
      },
      "execution_count": null,
      "outputs": []
    }
  ]
}